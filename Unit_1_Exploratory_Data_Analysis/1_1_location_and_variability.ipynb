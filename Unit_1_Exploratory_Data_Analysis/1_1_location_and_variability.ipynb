{
 "cells": [
  {
   "cell_type": "code",
   "execution_count": 3,
   "metadata": {},
   "outputs": [
    {
     "name": "stdout",
     "output_type": "stream",
     "text": [
      "4.2\n"
     ]
    }
   ],
   "source": [
    "import statistics\n",
    "x = [1,2,4,6,8]\n",
    "n = len(x)\n",
    "my_sum = sum(x)\n",
    "my_mean = my_sum/n\n",
    "print(my_mean)\n"
   ]
  },
  {
   "cell_type": "code",
   "execution_count": 5,
   "metadata": {},
   "outputs": [
    {
     "name": "stdout",
     "output_type": "stream",
     "text": [
      "4.2\n"
     ]
    }
   ],
   "source": [
    "my_mean = statistics.mean(x)\n",
    "print(my_mean)"
   ]
  },
  {
   "cell_type": "code",
   "execution_count": 6,
   "metadata": {},
   "outputs": [
    {
     "name": "stdout",
     "output_type": "stream",
     "text": [
      "4\n"
     ]
    }
   ],
   "source": [
    "x.sort()\n",
    "if n % 2 == 0:\n",
    "    median1 = x[n//2]\n",
    "    median2 = x[n//2 - 1]\n",
    "    median = (median1 + median2)/2\n",
    "else:\n",
    "    median = x[n//2]\n",
    "\n",
    "print(median)"
   ]
  },
  {
   "cell_type": "code",
   "execution_count": 7,
   "metadata": {},
   "outputs": [
    {
     "name": "stdout",
     "output_type": "stream",
     "text": [
      "4\n"
     ]
    }
   ],
   "source": [
    "median = statistics.median(x)\n",
    "print(median)"
   ]
  },
  {
   "cell_type": "code",
   "execution_count": 10,
   "metadata": {},
   "outputs": [
    {
     "name": "stdout",
     "output_type": "stream",
     "text": [
      "[4]\n"
     ]
    }
   ],
   "source": [
    "from collections import Counter\n",
    "x = [1,2,4,6,8,4]\n",
    "n=len(x)\n",
    "frequencies = Counter(x)\n",
    "modes_dict = dict(frequencies)\n",
    "\n",
    "mode = [k for k, v in modes_dict.items() if v == max(list(frequencies.values()))] \n",
    "\n",
    "print(mode)"
   ]
  },
  {
   "cell_type": "code",
   "execution_count": 12,
   "metadata": {},
   "outputs": [
    {
     "name": "stdout",
     "output_type": "stream",
     "text": [
      "4\n"
     ]
    }
   ],
   "source": [
    "modes = statistics.mode(x)\n",
    "print(modes)"
   ]
  },
  {
   "cell_type": "code",
   "execution_count": 13,
   "metadata": {},
   "outputs": [
    {
     "name": "stdout",
     "output_type": "stream",
     "text": [
      "6.566666666666666\n"
     ]
    }
   ],
   "source": [
    "my_var = statistics.variance(x)\n",
    "print(my_var)"
   ]
  },
  {
   "cell_type": "code",
   "execution_count": 14,
   "metadata": {},
   "outputs": [
    {
     "name": "stdout",
     "output_type": "stream",
     "text": [
      "2.562550812504343\n"
     ]
    }
   ],
   "source": [
    "my_std = statistics.stdev(x)\n",
    "print(my_std)"
   ]
  },
  {
   "cell_type": "code",
   "execution_count": 15,
   "metadata": {},
   "outputs": [],
   "source": [
    "import seaborn as sns\n",
    "import pandas as pd\n",
    "import  numpy as np "
   ]
  },
  {
   "cell_type": "code",
   "execution_count": 16,
   "metadata": {},
   "outputs": [],
   "source": [
    "penguins = sns.load_dataset(\"penguins\")\n",
    "flipper_length_mm = penguins['flipper_length_mm']"
   ]
  },
  {
   "cell_type": "code",
   "execution_count": 19,
   "metadata": {},
   "outputs": [
    {
     "name": "stdout",
     "output_type": "stream",
     "text": [
      "200.91520467836258\n"
     ]
    }
   ],
   "source": [
    "sum = 0 \n",
    "cnt_nan = 0 # helper variable to coun NaN values\n",
    "for n in flipper_length_mm:\n",
    "\tif not np.isnan(n):\n",
    "\t\tsum+=n\n",
    "\telse:\n",
    "\t\tcnt_nan+=1\n",
    "my_mean = sum/(len(flipper_length_mm)-cnt_nan)\n",
    "print(my_mean)"
   ]
  },
  {
   "cell_type": "code",
   "execution_count": 20,
   "metadata": {},
   "outputs": [
    {
     "name": "stdout",
     "output_type": "stream",
     "text": [
      "197.0\n"
     ]
    }
   ],
   "source": [
    "flipper_length_mm_sorted = sorted(flipper_length_mm)\n",
    "num = len(flipper_length_mm)\n",
    "\n",
    "if num % 2 == 0:\n",
    "\tmedian1 = flipper_length_mm_sorted[num//2]\t\n",
    "\tmedian2 = flipper_length_mm_sorted[num//2 - 1]\n",
    "\tmy_median = (median1 + median2)/2\t\n",
    "else:\n",
    "        my_median = flipper_length_mm_sorted[num//2]\n",
    "\n",
    "print(my_median)"
   ]
  },
  {
   "cell_type": "code",
   "execution_count": 21,
   "metadata": {},
   "outputs": [
    {
     "name": "stdout",
     "output_type": "stream",
     "text": [
      "181.0\n"
     ]
    }
   ],
   "source": [
    "counter = {}\n",
    "for n in flipper_length_mm:\n",
    "\tif n in counter.keys():\n",
    "\t\tcounter[str(n)]+=1\n",
    "\telse:\n",
    "\t\tcounter[str(n)]=1\n",
    "my_mode = 0\n",
    "for key,val in counter.items():\n",
    "\tif val>my_mode:\n",
    "\t\tmy_mode = float(key)\n",
    "\n",
    "print(my_mode)"
   ]
  },
  {
   "cell_type": "code",
   "execution_count": 22,
   "metadata": {},
   "outputs": [
    {
     "name": "stdout",
     "output_type": "stream",
     "text": [
      "197.1536284668788\n"
     ]
    }
   ],
   "source": [
    "my_variance = 0\n",
    "for n in flipper_length_mm:\n",
    "\tif not np.isnan(n):\n",
    "\t\tmy_variance+=(n-my_mean)**2\n",
    "\n",
    "my_variance/=(len(flipper_length_mm)-cnt_nan)\n",
    "\n",
    "print(my_variance)"
   ]
  },
  {
   "cell_type": "code",
   "execution_count": 23,
   "metadata": {},
   "outputs": [
    {
     "name": "stdout",
     "output_type": "stream",
     "text": [
      "14.041140568589107\n"
     ]
    }
   ],
   "source": [
    "my_std = my_variance**0.5\n",
    "\n",
    "print(my_std)\n"
   ]
  },
  {
   "cell_type": "code",
   "execution_count": null,
   "metadata": {},
   "outputs": [],
   "source": []
  }
 ],
 "metadata": {
  "kernelspec": {
   "display_name": "ml311",
   "language": "python",
   "name": "python3"
  },
  "language_info": {
   "codemirror_mode": {
    "name": "ipython",
    "version": 3
   },
   "file_extension": ".py",
   "mimetype": "text/x-python",
   "name": "python",
   "nbconvert_exporter": "python",
   "pygments_lexer": "ipython3",
   "version": "3.11.7"
  }
 },
 "nbformat": 4,
 "nbformat_minor": 2
}
